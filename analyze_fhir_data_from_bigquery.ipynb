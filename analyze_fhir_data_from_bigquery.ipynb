{
 "cells": [
  {
   "cell_type": "code",
   "execution_count": 5,
   "metadata": {},
   "outputs": [
    {
     "data": {
      "text/html": [
       "<div>\n",
       "<style scoped>\n",
       "    .dataframe tbody tr th:only-of-type {\n",
       "        vertical-align: middle;\n",
       "    }\n",
       "\n",
       "    .dataframe tbody tr th {\n",
       "        vertical-align: top;\n",
       "    }\n",
       "\n",
       "    .dataframe thead th {\n",
       "        text-align: right;\n",
       "    }\n",
       "</style>\n",
       "<table border=\"1\" class=\"dataframe\">\n",
       "  <thead>\n",
       "    <tr style=\"text-align: right;\">\n",
       "      <th></th>\n",
       "      <th>encounter_class</th>\n",
       "      <th>start_timestamp</th>\n",
       "      <th>end_timestamp</th>\n",
       "      <th>length_of_stay_in_hours</th>\n",
       "    </tr>\n",
       "  </thead>\n",
       "  <tbody>\n",
       "    <tr>\n",
       "      <th>0</th>\n",
       "      <td>AMB</td>\n",
       "      <td>1988-06-17T05:37:51-07:00</td>\n",
       "      <td>1988-07-01T05:37:51-07:00</td>\n",
       "      <td>336</td>\n",
       "    </tr>\n",
       "    <tr>\n",
       "      <th>1</th>\n",
       "      <td>AMB</td>\n",
       "      <td>2015-08-04T05:37:51-07:00</td>\n",
       "      <td>2015-08-04T10:52:51-07:00</td>\n",
       "      <td>5</td>\n",
       "    </tr>\n",
       "    <tr>\n",
       "      <th>2</th>\n",
       "      <td>EMER</td>\n",
       "      <td>2018-01-15T03:55:48-08:00</td>\n",
       "      <td>2018-01-15T09:10:48-08:00</td>\n",
       "      <td>5</td>\n",
       "    </tr>\n",
       "    <tr>\n",
       "      <th>3</th>\n",
       "      <td>AMB</td>\n",
       "      <td>2007-11-13T04:37:51-08:00</td>\n",
       "      <td>2007-11-13T09:52:51-08:00</td>\n",
       "      <td>5</td>\n",
       "    </tr>\n",
       "    <tr>\n",
       "      <th>4</th>\n",
       "      <td>EMER</td>\n",
       "      <td>2016-03-26T16:25:32-07:00</td>\n",
       "      <td>2016-03-26T19:49:32-07:00</td>\n",
       "      <td>3</td>\n",
       "    </tr>\n",
       "  </tbody>\n",
       "</table>\n",
       "</div>"
      ],
      "text/plain": [
       "  encounter_class            start_timestamp              end_timestamp  \\\n",
       "0             AMB  1988-06-17T05:37:51-07:00  1988-07-01T05:37:51-07:00   \n",
       "1             AMB  2015-08-04T05:37:51-07:00  2015-08-04T10:52:51-07:00   \n",
       "2            EMER  2018-01-15T03:55:48-08:00  2018-01-15T09:10:48-08:00   \n",
       "3             AMB  2007-11-13T04:37:51-08:00  2007-11-13T09:52:51-08:00   \n",
       "4            EMER  2016-03-26T16:25:32-07:00  2016-03-26T19:49:32-07:00   \n",
       "\n",
       "   length_of_stay_in_hours  \n",
       "0                      336  \n",
       "1                        5  \n",
       "2                        5  \n",
       "3                        5  \n",
       "4                        3  "
      ]
     },
     "execution_count": 5,
     "metadata": {},
     "output_type": "execute_result"
    }
   ],
   "source": [
    "from google.cloud import bigquery\n",
    "\n",
    "client = bigquery.Client()\n",
    "\n",
    "lengthofstay=\"\"\"\n",
    "SELECT\n",
    "    class.code as encounter_class,\n",
    "    period.start as start_timestamp,\n",
    "    period.end as end_timestamp, \n",
    "    TIMESTAMP_DIFF(TIMESTAMP(period.end), TIMESTAMP(period.start), HOUR) as length_of_stay_in_hours\n",
    "FROM \n",
    "    fhir_dataset.Encounter\n",
    "WHERE\n",
    "    period.end >= period.start\n",
    "ORDER BY\n",
    "    4 DESC\n",
    "LIMIT 10\n",
    "\"\"\"\n",
    "df = client.query(lengthofstay).to_dataframe()\n",
    "df.head()"
   ]
  },
  {
   "cell_type": "code",
   "execution_count": 6,
   "metadata": {},
   "outputs": [
    {
     "data": {
      "text/html": [
       "<div>\n",
       "<style scoped>\n",
       "    .dataframe tbody tr th:only-of-type {\n",
       "        vertical-align: middle;\n",
       "    }\n",
       "\n",
       "    .dataframe tbody tr th {\n",
       "        vertical-align: top;\n",
       "    }\n",
       "\n",
       "    .dataframe thead th {\n",
       "        text-align: right;\n",
       "    }\n",
       "</style>\n",
       "<table border=\"1\" class=\"dataframe\">\n",
       "  <thead>\n",
       "    <tr style=\"text-align: right;\">\n",
       "      <th></th>\n",
       "      <th>loinc_code</th>\n",
       "      <th>loinc_name</th>\n",
       "      <th>quantiles</th>\n",
       "      <th>num_obs</th>\n",
       "    </tr>\n",
       "  </thead>\n",
       "  <tbody>\n",
       "    <tr>\n",
       "      <th>0</th>\n",
       "      <td>2085-9</td>\n",
       "      <td>High Density Lipoprotein Cholesterol</td>\n",
       "      <td>[62.2, 64.4, 68.2, 76.9, 79.9]</td>\n",
       "      <td>10</td>\n",
       "    </tr>\n",
       "    <tr>\n",
       "      <th>1</th>\n",
       "      <td>2093-3</td>\n",
       "      <td>Total Cholesterol</td>\n",
       "      <td>[166.9, 176.2, 177.3, 184.0, 199.2]</td>\n",
       "      <td>10</td>\n",
       "    </tr>\n",
       "    <tr>\n",
       "      <th>2</th>\n",
       "      <td>18262-6</td>\n",
       "      <td>Low Density Lipoprotein Cholesterol</td>\n",
       "      <td>[67.9, 74.6, 79.8, 91.2, 113.6]</td>\n",
       "      <td>10</td>\n",
       "    </tr>\n",
       "  </tbody>\n",
       "</table>\n",
       "</div>"
      ],
      "text/plain": [
       "  loinc_code                            loinc_name  \\\n",
       "0     2085-9  High Density Lipoprotein Cholesterol   \n",
       "1     2093-3                     Total Cholesterol   \n",
       "2    18262-6   Low Density Lipoprotein Cholesterol   \n",
       "\n",
       "                             quantiles  num_obs  \n",
       "0       [62.2, 64.4, 68.2, 76.9, 79.9]       10  \n",
       "1  [166.9, 176.2, 177.3, 184.0, 199.2]       10  \n",
       "2      [67.9, 74.6, 79.8, 91.2, 113.6]       10  "
      ]
     },
     "execution_count": 6,
     "metadata": {},
     "output_type": "execute_result"
    }
   ],
   "source": [
    "observation=\"\"\"\n",
    "SELECT\n",
    "  cc.code loinc_code,\n",
    "  cc.display loinc_name,\n",
    "  approx_quantiles(round(o.value.quantity.value,1),4) as quantiles,\n",
    "  count(*) as num_obs\n",
    "FROM\n",
    "  fhir_dataset.Observation o, o.code.coding cc\n",
    "WHERE\n",
    "  cc.system like '%loinc%' and lower(cc.display) like '%cholesterol%'\n",
    "GROUP BY 1,2\n",
    "ORDER BY 4 desc\n",
    "\"\"\"\n",
    "df2 = client.query(observation).to_dataframe()\n",
    "df2.head()"
   ]
  },
  {
   "cell_type": "code",
   "execution_count": 7,
   "metadata": {},
   "outputs": [
    {
     "data": {
      "text/html": [
       "<div>\n",
       "<style scoped>\n",
       "    .dataframe tbody tr th:only-of-type {\n",
       "        vertical-align: middle;\n",
       "    }\n",
       "\n",
       "    .dataframe tbody tr th {\n",
       "        vertical-align: top;\n",
       "    }\n",
       "\n",
       "    .dataframe thead th {\n",
       "        text-align: right;\n",
       "    }\n",
       "</style>\n",
       "<table border=\"1\" class=\"dataframe\">\n",
       "  <thead>\n",
       "    <tr style=\"text-align: right;\">\n",
       "      <th></th>\n",
       "      <th>encounter_class</th>\n",
       "      <th>num_encounters_quantiles</th>\n",
       "    </tr>\n",
       "  </thead>\n",
       "  <tbody>\n",
       "    <tr>\n",
       "      <th>0</th>\n",
       "      <td>AMB</td>\n",
       "      <td>[251, 251, 251, 251, 251]</td>\n",
       "    </tr>\n",
       "    <tr>\n",
       "      <th>1</th>\n",
       "      <td>EMER</td>\n",
       "      <td>[14, 14, 14, 14, 14]</td>\n",
       "    </tr>\n",
       "  </tbody>\n",
       "</table>\n",
       "</div>"
      ],
      "text/plain": [
       "  encounter_class   num_encounters_quantiles\n",
       "0             AMB  [251, 251, 251, 251, 251]\n",
       "1            EMER       [14, 14, 14, 14, 14]"
      ]
     },
     "execution_count": 7,
     "metadata": {},
     "output_type": "execute_result"
    }
   ],
   "source": [
    "encounters=\"\"\"\n",
    "SELECT\n",
    "  encounter_class,\n",
    "  APPROX_QUANTILES(num_encounters, 4) num_encounters_quantiles\n",
    "FROM (\n",
    "  SELECT\n",
    "    class.code encounter_class,\n",
    "    subject.reference patient_id,\n",
    "    COUNT(DISTINCT id) AS num_encounters\n",
    "  FROM\n",
    "    fhir_dataset.Encounter\n",
    "  GROUP BY\n",
    "    1,2\n",
    "  )\n",
    "GROUP BY 1\n",
    "ORDER BY 1\n",
    "\"\"\"\n",
    "df3 = client.query(encounters).to_dataframe()\n",
    "df3.head()"
   ]
  },
  {
   "cell_type": "code",
   "execution_count": 8,
   "metadata": {},
   "outputs": [
    {
     "data": {
      "text/html": [
       "<div>\n",
       "<style scoped>\n",
       "    .dataframe tbody tr th:only-of-type {\n",
       "        vertical-align: middle;\n",
       "    }\n",
       "\n",
       "    .dataframe tbody tr th {\n",
       "        vertical-align: top;\n",
       "    }\n",
       "\n",
       "    .dataframe thead th {\n",
       "        text-align: right;\n",
       "    }\n",
       "</style>\n",
       "<table border=\"1\" class=\"dataframe\">\n",
       "  <thead>\n",
       "    <tr style=\"text-align: right;\">\n",
       "      <th></th>\n",
       "      <th>encounter_class</th>\n",
       "      <th>avg_minutes</th>\n",
       "    </tr>\n",
       "  </thead>\n",
       "  <tbody>\n",
       "    <tr>\n",
       "      <th>0</th>\n",
       "      <td>AMB</td>\n",
       "      <td>109.5</td>\n",
       "    </tr>\n",
       "    <tr>\n",
       "      <th>1</th>\n",
       "      <td>EMER</td>\n",
       "      <td>108.1</td>\n",
       "    </tr>\n",
       "  </tbody>\n",
       "</table>\n",
       "</div>"
      ],
      "text/plain": [
       "  encounter_class  avg_minutes\n",
       "0             AMB        109.5\n",
       "1            EMER        108.1"
      ]
     },
     "execution_count": 8,
     "metadata": {},
     "output_type": "execute_result"
    }
   ],
   "source": [
    "avgstay=\"\"\"\n",
    "SELECT\n",
    "  class.code encounter_class,\n",
    "  ROUND(AVG(TIMESTAMP_DIFF(TIMESTAMP(period.end), TIMESTAMP(period.start), MINUTE)),1) as avg_minutes\n",
    "FROM\n",
    "  fhir_dataset.Encounter\n",
    "WHERE\n",
    "  period.end >= period.start\n",
    "GROUP BY\n",
    "  1\n",
    "ORDER BY\n",
    "  2 DESC\n",
    "  \"\"\"\n",
    "df4 = client.query(avgstay).to_dataframe()\n",
    "df4.head()"
   ]
  },
  {
   "cell_type": "code",
   "execution_count": 9,
   "metadata": {},
   "outputs": [
    {
     "data": {
      "image/png": "[encoded data removed]",
      "text/plain": [
       "<Figure size 432x288 with 1 Axes>"
      ]
     },
     "metadata": {
      "needs_background": "light"
     },
     "output_type": "display_data"
    }
   ],
   "source": [
    "df4.plot(kind='bar', x='encounter_class', y='avg_minutes');"
   ]
  },
  {
   "cell_type": "code",
   "execution_count": null,
   "metadata": {},
   "outputs": [],
   "source": []
  }
 ],
 "metadata": {
  "kernelspec": {
   "display_name": "Python 3",
   "language": "python",
   "name": "python3"
  },
  "language_info": {
   "codemirror_mode": {
    "name": "ipython",
    "version": 3
   },
   "file_extension": ".py",
   "mimetype": "text/x-python",
   "name": "python",
   "nbconvert_exporter": "python",
   "pygments_lexer": "ipython3",
   "version": "3.5.3"
  }
 },
 "nbformat": 4,
 "nbformat_minor": 2
}
